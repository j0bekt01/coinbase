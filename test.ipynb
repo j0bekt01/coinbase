{
  "nbformat": 4,
  "nbformat_minor": 0,
  "metadata": {
    "colab": {
      "name": "Untitled1.ipynb",
      "provenance": [],
      "authorship_tag": "ABX9TyPGZhTXBYxE+UYHteKdz3Vf",
      "include_colab_link": true
    },
    "kernelspec": {
      "name": "python3",
      "display_name": "Python 3"
    }
  },
  "cells": [
    {
      "cell_type": "markdown",
      "metadata": {
        "id": "view-in-github",
        "colab_type": "text"
      },
      "source": [
        "<a href=\"https://colab.research.google.com/github/j0bekt01/coinbase/blob/main/test.ipynb\" target=\"_parent\"><img src=\"https://colab.research.google.com/assets/colab-badge.svg\" alt=\"Open In Colab\"/></a>"
      ]
    },
    {
      "cell_type": "code",
      "metadata": {
        "colab": {
          "base_uri": "https://localhost:8080/",
          "height": 799
        },
        "id": "4IuZGiwGzlvQ",
        "outputId": "1d19aec8-9fd6-4b7b-9f8a-da61a40ab370"
      },
      "source": [
        "!pip install cbpro"
      ],
      "execution_count": 1,
      "outputs": [
        {
          "output_type": "stream",
          "text": [
            "Collecting cbpro\n",
            "  Downloading https://files.pythonhosted.org/packages/54/c1/afa1482587268a8d1bda15f993fd1eaad038a62f41d860d82bb3b282c7d1/cbpro-1.1.4-py2.py3-none-any.whl\n",
            "Collecting pymongo==3.5.1\n",
            "\u001b[?25l  Downloading https://files.pythonhosted.org/packages/10/b3/2a3dd782a8bc51d6a715ed1db8d1851271ab454a8da67c462f7ecab16356/pymongo-3.5.1-cp36-cp36m-manylinux1_x86_64.whl (365kB)\n",
            "\u001b[K     |████████████████████████████████| 368kB 7.1MB/s \n",
            "\u001b[?25hRequirement already satisfied: sortedcontainers>=1.5.9 in /usr/local/lib/python3.6/dist-packages (from cbpro) (2.3.0)\n",
            "Collecting requests==2.13.0\n",
            "\u001b[?25l  Downloading https://files.pythonhosted.org/packages/7e/ac/a80ed043485a3764053f59ca92f809cc8a18344692817152b0e8bd3ca891/requests-2.13.0-py2.py3-none-any.whl (584kB)\n",
            "\u001b[K     |████████████████████████████████| 593kB 24.9MB/s \n",
            "\u001b[?25hCollecting six==1.10.0\n",
            "  Downloading https://files.pythonhosted.org/packages/c8/0a/b6723e1bc4c516cb687841499455a8505b44607ab535be01091c0f24f079/six-1.10.0-py2.py3-none-any.whl\n",
            "Collecting websocket-client==0.40.0\n",
            "\u001b[?25l  Downloading https://files.pythonhosted.org/packages/a7/2b/0039154583cb0489c8e18313aa91ccd140ada103289c5c5d31d80fd6d186/websocket_client-0.40.0.tar.gz (196kB)\n",
            "\u001b[K     |████████████████████████████████| 204kB 33.8MB/s \n",
            "\u001b[?25hBuilding wheels for collected packages: websocket-client\n",
            "  Building wheel for websocket-client (setup.py) ... \u001b[?25l\u001b[?25hdone\n",
            "  Created wheel for websocket-client: filename=websocket_client-0.40.0-py2.py3-none-any.whl size=198286 sha256=3c7808975e7a0ec7bd6e805dcf4f4f8c3a61988950a0a209593fa965c83de851\n",
            "  Stored in directory: /root/.cache/pip/wheels/b0/d2/e2/8275906d09421f074dc2d05381643a0b4b3c4945d845b14bf9\n",
            "Successfully built websocket-client\n",
            "\u001b[31mERROR: tensorflow 2.4.0 has requirement six~=1.15.0, but you'll have six 1.10.0 which is incompatible.\u001b[0m\n",
            "\u001b[31mERROR: tensorflow-datasets 4.0.1 has requirement requests>=2.19.0, but you'll have requests 2.13.0 which is incompatible.\u001b[0m\n",
            "\u001b[31mERROR: tensorboard 2.4.0 has requirement requests<3,>=2.21.0, but you'll have requests 2.13.0 which is incompatible.\u001b[0m\n",
            "\u001b[31mERROR: pandas-datareader 0.9.0 has requirement requests>=2.19.0, but you'll have requests 2.13.0 which is incompatible.\u001b[0m\n",
            "\u001b[31mERROR: nbclient 0.5.1 has requirement jupyter-client>=6.1.5, but you'll have jupyter-client 5.3.5 which is incompatible.\u001b[0m\n",
            "\u001b[31mERROR: google-colab 1.0.0 has requirement requests~=2.23.0, but you'll have requests 2.13.0 which is incompatible.\u001b[0m\n",
            "\u001b[31mERROR: google-colab 1.0.0 has requirement six~=1.15.0, but you'll have six 1.10.0 which is incompatible.\u001b[0m\n",
            "\u001b[31mERROR: google-api-core 1.16.0 has requirement requests<3.0.0dev,>=2.18.0, but you'll have requests 2.13.0 which is incompatible.\u001b[0m\n",
            "\u001b[31mERROR: dm-tree 0.1.5 has requirement six>=1.12.0, but you'll have six 1.10.0 which is incompatible.\u001b[0m\n",
            "\u001b[31mERROR: datascience 0.10.6 has requirement folium==0.2.1, but you'll have folium 0.8.3 which is incompatible.\u001b[0m\n",
            "\u001b[31mERROR: albumentations 0.1.12 has requirement imgaug<0.2.7,>=0.2.5, but you'll have imgaug 0.2.9 which is incompatible.\u001b[0m\n",
            "Installing collected packages: pymongo, requests, six, websocket-client, cbpro\n",
            "  Found existing installation: pymongo 3.11.2\n",
            "    Uninstalling pymongo-3.11.2:\n",
            "      Successfully uninstalled pymongo-3.11.2\n",
            "  Found existing installation: requests 2.23.0\n",
            "    Uninstalling requests-2.23.0:\n",
            "      Successfully uninstalled requests-2.23.0\n",
            "  Found existing installation: six 1.15.0\n",
            "    Uninstalling six-1.15.0:\n",
            "      Successfully uninstalled six-1.15.0\n",
            "Successfully installed cbpro-1.1.4 pymongo-3.5.1 requests-2.13.0 six-1.10.0 websocket-client-0.40.0\n"
          ],
          "name": "stdout"
        },
        {
          "output_type": "display_data",
          "data": {
            "application/vnd.colab-display-data+json": {
              "pip_warning": {
                "packages": [
                  "six"
                ]
              }
            }
          },
          "metadata": {
            "tags": []
          }
        }
      ]
    },
    {
      "cell_type": "markdown",
      "metadata": {
        "id": "tg-FoR6p0b1Z"
      },
      "source": [
        "# New Section"
      ]
    },
    {
      "cell_type": "code",
      "metadata": {
        "id": "Sl3lEaV2zth1"
      },
      "source": [
        "import cbpro"
      ],
      "execution_count": 2,
      "outputs": []
    },
    {
      "cell_type": "code",
      "metadata": {
        "id": "17lKEXfP0xDu"
      },
      "source": [
        "pas = '1fhnp3nvcui'\r\n",
        "sand_key = '01311bd60b06b3851ff45d224b380cea'\r\n",
        "sand_secret = 'MbshfUlBsNZ7BybFtavmgbZc8eZUPjXzVSRiwipaKZ9EMFshJkH56eez+oGlOtj6jmHPR6BOU5AXhNgrR/w3oA=='"
      ],
      "execution_count": 3,
      "outputs": []
    },
    {
      "cell_type": "code",
      "metadata": {
        "id": "1nLaqaNn01w7"
      },
      "source": [
        "auth_client = cbpro.AuthenticatedClient(key = sand_key, b64secret = sand_secret, passphrase = pas, api_url=\"https://api-public.sandbox.pro.coinbase.com\")"
      ],
      "execution_count": 4,
      "outputs": []
    },
    {
      "cell_type": "code",
      "metadata": {
        "colab": {
          "base_uri": "https://localhost:8080/"
        },
        "id": "6e3u7cVH02ge",
        "outputId": "b12f666d-9e0d-4367-c3a6-82e9c8d347e9"
      },
      "source": [
        "auth_client.get_accounts()"
      ],
      "execution_count": 5,
      "outputs": [
        {
          "output_type": "execute_result",
          "data": {
            "text/plain": [
              "[{'available': '0',\n",
              "  'balance': '0.0000000000000000',\n",
              "  'currency': 'BAT',\n",
              "  'hold': '0.0000000000000000',\n",
              "  'id': '115f2c69-dea6-496c-ab3b-005c6ead4e93',\n",
              "  'profile_id': 'c9cc4fa1-a2e1-4bb0-9702-a1da2cdfb506',\n",
              "  'trading_enabled': True},\n",
              " {'available': '0',\n",
              "  'balance': '0.0000000000000000',\n",
              "  'currency': 'BTC',\n",
              "  'hold': '0.0000000000000000',\n",
              "  'id': '408f61dd-7676-4732-aee7-c5e12e04ce8e',\n",
              "  'profile_id': 'c9cc4fa1-a2e1-4bb0-9702-a1da2cdfb506',\n",
              "  'trading_enabled': True},\n",
              " {'available': '0',\n",
              "  'balance': '0.0000000000000000',\n",
              "  'currency': 'ETH',\n",
              "  'hold': '0.0000000000000000',\n",
              "  'id': '6e50c5f1-753c-434b-a914-ecd73a398838',\n",
              "  'profile_id': 'c9cc4fa1-a2e1-4bb0-9702-a1da2cdfb506',\n",
              "  'trading_enabled': True},\n",
              " {'available': '0',\n",
              "  'balance': '0.0000000000000000',\n",
              "  'currency': 'EUR',\n",
              "  'hold': '0.0000000000000000',\n",
              "  'id': '544fc225-f36c-4672-b16d-11c3df721727',\n",
              "  'profile_id': 'c9cc4fa1-a2e1-4bb0-9702-a1da2cdfb506',\n",
              "  'trading_enabled': True},\n",
              " {'available': '0',\n",
              "  'balance': '0.0000000000000000',\n",
              "  'currency': 'GBP',\n",
              "  'hold': '0.0000000000000000',\n",
              "  'id': '7cd0044a-883f-4b8d-84b8-f8db04f6f8fa',\n",
              "  'profile_id': 'c9cc4fa1-a2e1-4bb0-9702-a1da2cdfb506',\n",
              "  'trading_enabled': True},\n",
              " {'available': '0',\n",
              "  'balance': '0.0000000000000000',\n",
              "  'currency': 'LINK',\n",
              "  'hold': '0.0000000000000000',\n",
              "  'id': '231211ae-deac-4036-81ce-bcbf65490a1a',\n",
              "  'profile_id': 'c9cc4fa1-a2e1-4bb0-9702-a1da2cdfb506',\n",
              "  'trading_enabled': True},\n",
              " {'available': '0',\n",
              "  'balance': '0.0000000000000000',\n",
              "  'currency': 'USD',\n",
              "  'hold': '0.0000000000000000',\n",
              "  'id': '69a0b255-c41c-4a33-8498-7ec80187fc86',\n",
              "  'profile_id': 'c9cc4fa1-a2e1-4bb0-9702-a1da2cdfb506',\n",
              "  'trading_enabled': True},\n",
              " {'available': '0',\n",
              "  'balance': '0.0000000000000000',\n",
              "  'currency': 'USDC',\n",
              "  'hold': '0.0000000000000000',\n",
              "  'id': '23cb15f5-435e-42b2-9f40-c3867137d114',\n",
              "  'profile_id': 'c9cc4fa1-a2e1-4bb0-9702-a1da2cdfb506',\n",
              "  'trading_enabled': True}]"
            ]
          },
          "metadata": {
            "tags": []
          },
          "execution_count": 5
        }
      ]
    }
  ]
}